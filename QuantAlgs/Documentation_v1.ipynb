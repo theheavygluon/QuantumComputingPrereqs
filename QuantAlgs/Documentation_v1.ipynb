{
 "cells": [
  {
   "cell_type": "code",
   "execution_count": 1,
   "metadata": {},
   "outputs": [],
   "source": [
    "from QuantAlgs import *"
   ]
  },
  {
   "cell_type": "markdown",
   "metadata": {},
   "source": [
    "# Bernstein-Vazarani"
   ]
  },
  {
   "cell_type": "code",
   "execution_count": 2,
   "metadata": {},
   "outputs": [
    {
     "data": {
      "text/plain": [
       "(     ┌───┐      ░            ░ ┌───┐ ░ ┌─┐      \n",
       " q_0: ┤ H ├──────░────────■───░─┤ H ├─░─┤M├──────\n",
       "      ├───┤      ░        │   ░ ├───┤ ░ └╥┘┌─┐   \n",
       " q_1: ┤ H ├──────░────────┼───░─┤ H ├─░──╫─┤M├───\n",
       "      ├───┤      ░        │   ░ ├───┤ ░  ║ └╥┘┌─┐\n",
       " q_2: ┤ H ├──────░───■────┼───░─┤ H ├─░──╫──╫─┤M├\n",
       "      ├───┤┌───┐ ░ ┌─┴─┐┌─┴─┐ ░ └───┘ ░  ║  ║ └╥┘\n",
       " q_3: ┤ X ├┤ H ├─░─┤ X ├┤ X ├─░───────░──╫──╫──╫─\n",
       "      └───┘└───┘ ░ └───┘└───┘ ░       ░  ║  ║  ║ \n",
       " c: 3/═══════════════════════════════════╩══╩══╩═\n",
       "                                         0  1  2 ,\n",
       " {'101': 1})"
      ]
     },
     "execution_count": 2,
     "metadata": {},
     "output_type": "execute_result"
    }
   ],
   "source": [
    "#Simulate on qasm_simulator\n",
    "bV_sim = berVaz.sim('101')\n",
    "bV_sim"
   ]
  },
  {
   "cell_type": "code",
   "execution_count": 3,
   "metadata": {},
   "outputs": [
    {
     "data": {
      "image/png": "[encoded data removed]",
      "text/plain": [
       "<Figure size 504x360 with 1 Axes>"
      ]
     },
     "execution_count": 3,
     "metadata": {},
     "output_type": "execute_result"
    }
   ],
   "source": [
    "plot_histogram(bV_sim[1])"
   ]
  },
  {
   "cell_type": "code",
   "execution_count": 4,
   "metadata": {},
   "outputs": [],
   "source": [
    "#Run on a real quantum device with circuit drawn on matplotlib\n",
    "#bV_run = berVaz.run('101', device='ibmq_16_melbourne', plotTool='mpl', shots=1000)\n",
    "#bV_run"
   ]
  },
  {
   "cell_type": "code",
   "execution_count": 5,
   "metadata": {},
   "outputs": [],
   "source": [
    "#bV_run[0]"
   ]
  },
  {
   "cell_type": "code",
   "execution_count": 6,
   "metadata": {
    "scrolled": true
   },
   "outputs": [],
   "source": [
    "#plot_histogram(bV_run[1].get_counts(bV_run[2]))"
   ]
  },
  {
   "cell_type": "markdown",
   "metadata": {},
   "source": [
    "# Deutsch–Jozsa"
   ]
  },
  {
   "cell_type": "code",
   "execution_count": 7,
   "metadata": {},
   "outputs": [
    {
     "data": {
      "text/plain": [
       "(     ┌───┐     ┌────────────┐┌───┐┌─┐      \n",
       " q_0: ┤ H ├─────┤0           ├┤ H ├┤M├──────\n",
       "      ├───┤     │            │├───┤└╥┘┌─┐   \n",
       " q_1: ┤ H ├─────┤1           ├┤ H ├─╫─┤M├───\n",
       "      ├───┤     │  circuit83 │├───┤ ║ └╥┘┌─┐\n",
       " q_2: ┤ H ├─────┤2           ├┤ H ├─╫──╫─┤M├\n",
       "      ├───┤┌───┐│            │└───┘ ║  ║ └╥┘\n",
       " q_3: ┤ X ├┤ H ├┤3           ├──────╫──╫──╫─\n",
       "      └───┘└───┘└────────────┘      ║  ║  ║ \n",
       " c: 3/══════════════════════════════╩══╩══╩═\n",
       "                                    0  1  2 ,\n",
       " {'111': 1})"
      ]
     },
     "execution_count": 7,
     "metadata": {},
     "output_type": "execute_result"
    }
   ],
   "source": [
    "#Simulate\n",
    "dJ_sim = deuJoz.sim(3,'b')\n",
    "dJ_sim"
   ]
  },
  {
   "cell_type": "code",
   "execution_count": 8,
   "metadata": {},
   "outputs": [
    {
     "data": {
      "image/png": "[encoded data removed]",
      "text/plain": [
       "<Figure size 504x360 with 1 Axes>"
      ]
     },
     "execution_count": 8,
     "metadata": {},
     "output_type": "execute_result"
    }
   ],
   "source": [
    "plot_histogram(dJ_sim[1])"
   ]
  },
  {
   "cell_type": "code",
   "execution_count": 9,
   "metadata": {},
   "outputs": [],
   "source": [
    "#Run on a real quantum device with circuit drawn on matplotlib\n",
    "#dJ_run = deuJoz.run(3, funcType='c', device='ibmq_16_melbourne', plotTool='mpl', shots=1000)\n",
    "#dJ_run"
   ]
  },
  {
   "cell_type": "code",
   "execution_count": 10,
   "metadata": {},
   "outputs": [],
   "source": [
    "#dJ_run[0]"
   ]
  },
  {
   "cell_type": "code",
   "execution_count": 11,
   "metadata": {},
   "outputs": [],
   "source": [
    "#plot_histogram(dJ_run[1].get_counts(dJ_run[2]))"
   ]
  },
  {
   "cell_type": "markdown",
   "metadata": {},
   "source": [
    "# Grover Search\n",
    "\n",
    "### Building Enviroment"
   ]
  },
  {
   "cell_type": "code",
   "execution_count": 12,
   "metadata": {
    "scrolled": true
   },
   "outputs": [
    {
     "data": {
      "text/html": [
       "<pre style=\"word-wrap: normal;white-space: pre;background: #fff0;line-height: 1.1;font-family: &quot;Courier New&quot;,Courier,monospace\">        ┌───┐ ░                                   ░ ┌───┐\n",
       "ctrl_0: ┤ X ├─░───■───────────────────────────■───░─┤ X ├\n",
       "        └───┘ ░   │                           │   ░ └───┘\n",
       "ctrl_1: ──────░───■───────────────────────────■───░──────\n",
       "        ┌───┐ ░   │                           │   ░ ┌───┐\n",
       "ctrl_2: ┤ X ├─░───┼────■─────────────────■────┼───░─┤ X ├\n",
       "        ├───┤ ░   │    │                 │    │   ░ ├───┤\n",
       "ctrl_3: ┤ X ├─░───┼────┼────■───────■────┼────┼───░─┤ X ├\n",
       "        └───┘ ░ ┌─┴─┐  │    │       │    │  ┌─┴─┐ ░ └───┘\n",
       " anc_0: ──────░─┤ X ├──■────┼───────┼────■──┤ X ├─░──────\n",
       "              ░ └───┘┌─┴─┐  │       │  ┌─┴─┐└───┘ ░      \n",
       " anc_1: ──────░──────┤ X ├──■───────■──┤ X ├──────░──────\n",
       "              ░      └───┘┌─┴─┐   ┌─┴─┐└───┘      ░      \n",
       " anc_2: ──────░───────────┤ X ├─■─┤ X ├───────────░──────\n",
       "              ░           └───┘ │ └───┘           ░      \n",
       " anc_3: ──────░─────────────────┼─────────────────░──────\n",
       "        ┌───┐ ░                 │                 ░ ┌───┐\n",
       " tgt_0: ┤ X ├─░─────────────────■─────────────────░─┤ X ├\n",
       "        └───┘ ░                                   ░ └───┘</pre>"
      ],
      "text/plain": [
       "        ┌───┐ ░                                   ░ ┌───┐\n",
       "ctrl_0: ┤ X ├─░───■───────────────────────────■───░─┤ X ├\n",
       "        └───┘ ░   │                           │   ░ └───┘\n",
       "ctrl_1: ──────░───■───────────────────────────■───░──────\n",
       "        ┌───┐ ░   │                           │   ░ ┌───┐\n",
       "ctrl_2: ┤ X ├─░───┼────■─────────────────■────┼───░─┤ X ├\n",
       "        ├───┤ ░   │    │                 │    │   ░ ├───┤\n",
       "ctrl_3: ┤ X ├─░───┼────┼────■───────■────┼────┼───░─┤ X ├\n",
       "        └───┘ ░ ┌─┴─┐  │    │       │    │  ┌─┴─┐ ░ └───┘\n",
       " anc_0: ──────░─┤ X ├──■────┼───────┼────■──┤ X ├─░──────\n",
       "              ░ └───┘┌─┴─┐  │       │  ┌─┴─┐└───┘ ░      \n",
       " anc_1: ──────░──────┤ X ├──■───────■──┤ X ├──────░──────\n",
       "              ░      └───┘┌─┴─┐   ┌─┴─┐└───┘      ░      \n",
       " anc_2: ──────░───────────┤ X ├─■─┤ X ├───────────░──────\n",
       "              ░           └───┘ │ └───┘           ░      \n",
       " anc_3: ──────░─────────────────┼─────────────────░──────\n",
       "        ┌───┐ ░                 │                 ░ ┌───┐\n",
       " tgt_0: ┤ X ├─░─────────────────■─────────────────░─┤ X ├\n",
       "        └───┘ ░                                   ░ └───┘"
      ]
     },
     "execution_count": 12,
     "metadata": {},
     "output_type": "execute_result"
    }
   ],
   "source": [
    "def oracle(target):\n",
    "    n = len(target)\n",
    "    ctrl = QuantumRegister(n-1, 'ctrl')\n",
    "    anc = QuantumRegister(n-1, 'anc')\n",
    "    tgt = QuantumRegister(1, 'tgt')\n",
    "    qc = QuantumCircuit(ctrl, anc, tgt)\n",
    "    \n",
    "    def cnz(n):\n",
    "\n",
    "        qc.ccx(ctrl[0], ctrl[1], anc[0])\n",
    "        for i in range(2, n):\n",
    "            qc.ccx(ctrl[i], anc[i-2], anc[i-1])\n",
    "\n",
    "\n",
    "        qc.cz(anc[n-2], tgt[0])\n",
    "\n",
    "\n",
    "        for i in range(n-1, 1, -1):\n",
    "            qc.ccx(ctrl[i], anc[i-2], anc[i-1])\n",
    "        qc.ccx(ctrl[0], ctrl[1], anc[0]) \n",
    "\n",
    "\n",
    "    def xMaker(target):\n",
    "\n",
    "        targList = [int(i) for i in target]\n",
    "        tL1 = [targList[i] for i in range(len(targList)-1)]\n",
    "        tL2 = targList[-1]\n",
    "        \n",
    "        \n",
    "        j = 0\n",
    "        for i in tL1:\n",
    "            if i==0:\n",
    "                qc.x(j)\n",
    "            j+=1\n",
    "        if tL2 == 0:\n",
    "            qc.x(tgt)\n",
    "    xMaker(target)\n",
    "    qc.barrier()\n",
    "    cnz(n - 1)\n",
    "    qc.barrier()\n",
    "    xMaker(target)\n",
    "    return qc\n",
    "    \n",
    "    \n",
    "\n",
    "\n",
    "oracle('01000').draw()"
   ]
  },
  {
   "cell_type": "code",
   "execution_count": 13,
   "metadata": {
    "scrolled": true
   },
   "outputs": [
    {
     "data": {
      "text/html": [
       "<pre style=\"word-wrap: normal;white-space: pre;background: #fff0;line-height: 1.1;font-family: &quot;Courier New&quot;,Courier,monospace\">        ┌───┐┌───┐ ░                         ░ ┌───┐┌───┐\n",
       "ctrl_0: ┤ H ├┤ X ├─░───■─────────────────■───░─┤ X ├┤ H ├\n",
       "        ├───┤├───┤ ░   │                 │   ░ ├───┤├───┤\n",
       "ctrl_1: ┤ H ├┤ X ├─░───■─────────────────■───░─┤ X ├┤ H ├\n",
       "        ├───┤├───┤ ░   │                 │   ░ ├───┤├───┤\n",
       "ctrl_2: ┤ H ├┤ X ├─░───┼────■───────■────┼───░─┤ X ├┤ H ├\n",
       "        └───┘└───┘ ░ ┌─┴─┐  │       │  ┌─┴─┐ ░ └───┘└───┘\n",
       " anc_0: ───────────░─┤ X ├──■───────■──┤ X ├─░───────────\n",
       "                   ░ └───┘┌─┴─┐   ┌─┴─┐└───┘ ░           \n",
       " anc_1: ───────────░──────┤ X ├─■─┤ X ├──────░───────────\n",
       "                   ░      └───┘ │ └───┘      ░           \n",
       " anc_2: ───────────░────────────┼────────────░───────────\n",
       "        ┌───┐┌───┐ ░            │            ░ ┌───┐┌───┐\n",
       " tgt_0: ┤ H ├┤ X ├─░────────────■────────────░─┤ X ├┤ H ├\n",
       "        └───┘└───┘ ░                         ░ └───┘└───┘</pre>"
      ],
      "text/plain": [
       "        ┌───┐┌───┐ ░                         ░ ┌───┐┌───┐\n",
       "ctrl_0: ┤ H ├┤ X ├─░───■─────────────────■───░─┤ X ├┤ H ├\n",
       "        ├───┤├───┤ ░   │                 │   ░ ├───┤├───┤\n",
       "ctrl_1: ┤ H ├┤ X ├─░───■─────────────────■───░─┤ X ├┤ H ├\n",
       "        ├───┤├───┤ ░   │                 │   ░ ├───┤├───┤\n",
       "ctrl_2: ┤ H ├┤ X ├─░───┼────■───────■────┼───░─┤ X ├┤ H ├\n",
       "        └───┘└───┘ ░ ┌─┴─┐  │       │  ┌─┴─┐ ░ └───┘└───┘\n",
       " anc_0: ───────────░─┤ X ├──■───────■──┤ X ├─░───────────\n",
       "                   ░ └───┘┌─┴─┐   ┌─┴─┐└───┘ ░           \n",
       " anc_1: ───────────░──────┤ X ├─■─┤ X ├──────░───────────\n",
       "                   ░      └───┘ │ └───┘      ░           \n",
       " anc_2: ───────────░────────────┼────────────░───────────\n",
       "        ┌───┐┌───┐ ░            │            ░ ┌───┐┌───┐\n",
       " tgt_0: ┤ H ├┤ X ├─░────────────■────────────░─┤ X ├┤ H ├\n",
       "        └───┘└───┘ ░                         ░ └───┘└───┘"
      ]
     },
     "execution_count": 13,
     "metadata": {},
     "output_type": "execute_result"
    }
   ],
   "source": [
    "def amplification(target):\n",
    "    n = len(target)\n",
    "    ctrl = QuantumRegister(n-1, 'ctrl')\n",
    "    anc = QuantumRegister(n-1, 'anc')\n",
    "    tgt = QuantumRegister(1, 'tgt')\n",
    "    qc = QuantumCircuit(ctrl, anc, tgt)\n",
    "    \n",
    "    def cnz(n):\n",
    "\n",
    "        qc.ccx(ctrl[0], ctrl[1], anc[0])\n",
    "        for i in range(2, n):\n",
    "            qc.ccx(ctrl[i], anc[i-2], anc[i-1])\n",
    "\n",
    "\n",
    "        qc.cz(anc[n-2], tgt[0])\n",
    "\n",
    "\n",
    "        for i in range(n-1, 1, -1):\n",
    "            qc.ccx(ctrl[i], anc[i-2], anc[i-1])\n",
    "        qc.ccx(ctrl[0], ctrl[1], anc[0]) \n",
    "        \n",
    "    \n",
    "    qc.h([i for i in range(n-1)])\n",
    "    qc.h(tgt)\n",
    "    qc.x([i for i in range(n-1)])\n",
    "    qc.x(tgt)\n",
    "    qc.barrier()\n",
    "    cnz(n-1)\n",
    "    qc.barrier()\n",
    "    qc.x([i for i in range(n-1)])\n",
    "    qc.x(tgt)\n",
    "    qc.h([i for i in range(n-1)])\n",
    "    qc.h(tgt)\n",
    "        \n",
    "\n",
    "    \n",
    "    return qc\n",
    "\n",
    "\n",
    "\n",
    "amplification('1001').draw()\n"
   ]
  },
  {
   "cell_type": "code",
   "execution_count": null,
   "metadata": {},
   "outputs": [],
   "source": []
  },
  {
   "cell_type": "code",
   "execution_count": null,
   "metadata": {},
   "outputs": [],
   "source": []
  },
  {
   "cell_type": "code",
   "execution_count": null,
   "metadata": {},
   "outputs": [],
   "source": []
  },
  {
   "cell_type": "code",
   "execution_count": 14,
   "metadata": {},
   "outputs": [],
   "source": [
    "def x(y):\n",
    "    return y"
   ]
  },
  {
   "cell_type": "code",
   "execution_count": 15,
   "metadata": {},
   "outputs": [
    {
     "data": {
      "text/plain": [
       "5"
      ]
     },
     "execution_count": 15,
     "metadata": {},
     "output_type": "execute_result"
    }
   ],
   "source": [
    "x(5)"
   ]
  },
  {
   "cell_type": "code",
   "execution_count": 16,
   "metadata": {},
   "outputs": [
    {
     "data": {
      "text/plain": [
       "3"
      ]
     },
     "execution_count": 16,
     "metadata": {},
     "output_type": "execute_result"
    }
   ],
   "source": [
    "x(3)"
   ]
  },
  {
   "cell_type": "code",
   "execution_count": null,
   "metadata": {},
   "outputs": [],
   "source": [
    "\n"
   ]
  },
  {
   "cell_type": "code",
   "execution_count": null,
   "metadata": {},
   "outputs": [],
   "source": [
    "\n",
    "\n",
    "\n"
   ]
  },
  {
   "cell_type": "code",
   "execution_count": null,
   "metadata": {},
   "outputs": [],
   "source": []
  },
  {
   "cell_type": "code",
   "execution_count": null,
   "metadata": {},
   "outputs": [],
   "source": []
  },
  {
   "cell_type": "code",
   "execution_count": 17,
   "metadata": {},
   "outputs": [],
   "source": [
    "def mcp(self, lam, control_qubits, target_qubit):\n",
    "        from qiskit.circuit.library import MCPhaseGate\n",
    "        num_ctrl_qubits = len(control_qubits)\n",
    "        return self.append(MCPhaseGate(lam, num_ctrl_qubits), control_qubits[:] + [target_qubit],\n",
    "                           [])\n"
   ]
  },
  {
   "cell_type": "code",
   "execution_count": null,
   "metadata": {},
   "outputs": [],
   "source": []
  },
  {
   "cell_type": "code",
   "execution_count": null,
   "metadata": {},
   "outputs": [],
   "source": []
  },
  {
   "cell_type": "code",
   "execution_count": 18,
   "metadata": {},
   "outputs": [],
   "source": [
    "\n",
    "def hadamards(target):\n",
    "    target_list = [int(x) for x in str(target)]\n",
    "    n = len(target_list)\n",
    "    hadCirc = QuantumCircuit(n,n)\n",
    "    counter = [i for i in range(n)]\n",
    "    hadCirc.h(counter)\n",
    "    hadCirc.barrier()\n",
    "    return hadCirc"
   ]
  },
  {
   "cell_type": "code",
   "execution_count": 19,
   "metadata": {},
   "outputs": [
    {
     "data": {
      "text/plain": [
       "<qiskit.circuit.quantumcircuit.QuantumCircuit at 0x125a9e730>"
      ]
     },
     "execution_count": 19,
     "metadata": {},
     "output_type": "execute_result"
    }
   ],
   "source": [
    "\n",
    "    \n",
    "    \n",
    "def oracle(target):\n",
    "    target_list = [int(x) for x in str(target)]\n",
    "    n = len(target_list)\n",
    "    quanti = QuantumCircuit(n,n)\n",
    "    counter = [i for i in range(n)]\n",
    "    filtered = [counter[i] for i in range(n) if target_list[i]==0]\n",
    "    if filtered != []:\n",
    "        quanti.x(filtered)\n",
    "    mcp(quanti, np.pi, [i for i in range(n-1)],n-1)\n",
    "    if filtered != []:\n",
    "        quanti.x(filtered)\n",
    "    quanti.barrier()\n",
    "    return quanti\n",
    "    \n",
    "\n",
    "    \n",
    "\n",
    "\n",
    "oracle('1011')"
   ]
  },
  {
   "cell_type": "code",
   "execution_count": 20,
   "metadata": {},
   "outputs": [
    {
     "data": {
      "text/plain": [
       "<qiskit.circuit.quantumcircuit.QuantumCircuit at 0x125c3ccd0>"
      ]
     },
     "execution_count": 20,
     "metadata": {},
     "output_type": "execute_result"
    }
   ],
   "source": [
    "def amplification(target):\n",
    "    target_list = [int(x) for x in str(target)]\n",
    "    n = len(target_list)\n",
    "    counter = [i for i in range(n)]\n",
    "    quantu = QuantumCircuit(n,n)\n",
    "    k = round(PI*n/4 - 0.5)\n",
    "    for i in range(k):\n",
    "        quantu.h(counter)\n",
    "        quantu.x(counter)\n",
    "        mcp(quantu, np.pi, [i for i in range(n-1)],n-1)\n",
    "        quantu.x(counter)\n",
    "        quantu.h(counter)\n",
    "        quantu.barrier()\n",
    "    \n",
    "    \n",
    "    return quantu\n",
    "\n",
    "amplification('1011')\n",
    "    "
   ]
  },
  {
   "cell_type": "code",
   "execution_count": 21,
   "metadata": {},
   "outputs": [],
   "source": [
    "cucu = hadamards('110')+oracle('110') + amplification('110')\n"
   ]
  },
  {
   "cell_type": "code",
   "execution_count": 22,
   "metadata": {},
   "outputs": [
    {
     "data": {
      "image/png": "[encoded data removed]",
      "text/plain": [
       "<Figure size 1224.38x264.88 with 1 Axes>"
      ]
     },
     "execution_count": 22,
     "metadata": {},
     "output_type": "execute_result"
    }
   ],
   "source": [
    "cucu.draw('mpl')"
   ]
  },
  {
   "cell_type": "code",
   "execution_count": 23,
   "metadata": {},
   "outputs": [],
   "source": [
    "backend = Aer.get_backend('qasm_simulator')\n",
    "result = execute(cucu,backend).result()\n",
    "output = result.get_counts()"
   ]
  },
  {
   "cell_type": "code",
   "execution_count": 24,
   "metadata": {},
   "outputs": [
    {
     "data": {
      "image/png": "[encoded data removed]",
      "text/plain": [
       "<Figure size 504x360 with 1 Axes>"
      ]
     },
     "execution_count": 24,
     "metadata": {},
     "output_type": "execute_result"
    }
   ],
   "source": [
    "plot_histogram(output)"
   ]
  },
  {
   "cell_type": "code",
   "execution_count": 25,
   "metadata": {},
   "outputs": [],
   "source": [
    "def groverCircuit(target):\n",
    "\n",
    "    target_list = [int(x) for x in str(target)] #Converts the target into a list (e.g '1001' => [1,0,0,1])\n",
    "    n = len(target_list) #Length of target list (i.e nbr of qubits)\n",
    "    counter = [i for i in range(n)] #List containing integers from 0 to num_qubits - 1\n",
    "\n",
    "    #Defining a CnP gate. Note that CnP(PI) = CNZ\n",
    "    def mcp(self, lam, control_qubits, target_qubit):\n",
    "        from qiskit.circuit.library import MCPhaseGate\n",
    "        num_ctrl_qubits = len(control_qubits)\n",
    "        return self.append(MCPhaseGate(lam, num_ctrl_qubits), control_qubits[:] + [target_qubit],\n",
    "                       [])\n",
    "\n",
    "    #Sub-circuit 1: Hadamard on all qubits\n",
    "    def hadamards(target):\n",
    "        hadCirc = QuantumCircuit(n,n)\n",
    "        hadCirc.h(counter)\n",
    "        hadCirc.barrier()\n",
    "        return hadCirc\n",
    "\n",
    "    #Sub-circuit 2: Oracle \n",
    "    def oracle(target):\n",
    "        filtered = [counter[i] for i in range(n) if target_list[i]==0] #Filtering the counter list to only the indices where target==0\n",
    "        oracleCirc = QuantumCircuit(n,n)\n",
    "        if filtered != []:\n",
    "            oracleCirc.x(filtered) #In other words, if target only has 1s, do nothing \n",
    "        mcp(oracleCirc, np.pi, [i for i in range(n-1)],n-1)\n",
    "        if filtered != []:\n",
    "            oracleCirc.x(filtered) #Applying X gates to the qubits which represent 0\n",
    "        oracleCirc.barrier()\n",
    "        return oracleCirc\n",
    "\n",
    "    #Sub-circuit 3: Amplifier\n",
    "    def amplification(target):\n",
    "        ampCirc = QuantumCircuit(n,n)\n",
    "        k = round(PI*n/4 - 0.5) #Ideal number of amp-iterations \n",
    "        for i in range(k):\n",
    "            ampCirc.h(counter)\n",
    "            ampCirc.x(counter)\n",
    "            mcp(ampCirc, np.pi, [i for i in range(n-1)],n-1)\n",
    "            ampCirc.x(counter)\n",
    "            ampCirc.h(counter)\n",
    "            ampCirc.barrier()\n",
    "\n",
    "\n",
    "        return ampCirc\n",
    "\n",
    "    circuit = hadamards(target) + oracle(target) + amplification(target)\n",
    "    circuit.measure(counter, counter)\n",
    "    return circuit\n",
    "    "
   ]
  },
  {
   "cell_type": "code",
   "execution_count": 26,
   "metadata": {},
   "outputs": [],
   "source": [
    "a = groverCircuit('1001')"
   ]
  },
  {
   "cell_type": "code",
   "execution_count": 27,
   "metadata": {},
   "outputs": [
    {
     "data": {
      "image/png": "[encoded data removed]",
      "text/plain": [
       "<Figure size 1645.78x686.28 with 1 Axes>"
      ]
     },
     "execution_count": 27,
     "metadata": {},
     "output_type": "execute_result"
    }
   ],
   "source": [
    "a.draw('mpl')"
   ]
  },
  {
   "cell_type": "code",
   "execution_count": 28,
   "metadata": {},
   "outputs": [],
   "source": [
    "from QuantAlgs import grovSearch as grover"
   ]
  },
  {
   "cell_type": "code",
   "execution_count": null,
   "metadata": {},
   "outputs": [],
   "source": []
  },
  {
   "cell_type": "code",
   "execution_count": 35,
   "metadata": {},
   "outputs": [
    {
     "name": "stderr",
     "output_type": "stream",
     "text": [
      "ibmqfactory.load_account:WARNING:2021-05-27 18:49:23,615: Credentials are already in use. The existing account in the session will be replaced.\n"
     ]
    },
    {
     "name": "stdout",
     "output_type": "stream",
     "text": [
      "Job Status: job has successfully run\n"
     ]
    },
    {
     "ename": "TypeError",
     "evalue": "reduce() arg 2 must support iteration",
     "output_type": "error",
     "traceback": [
      "\u001b[0;31m---------------------------------------------------------------------------\u001b[0m",
      "\u001b[0;31mTypeError\u001b[0m                                 Traceback (most recent call last)",
      "\u001b[0;32m<ipython-input-35-bbaad23c491a>\u001b[0m in \u001b[0;36m<module>\u001b[0;34m\u001b[0m\n\u001b[1;32m      1\u001b[0m \u001b[0ma\u001b[0m \u001b[0;34m=\u001b[0m \u001b[0mgrovSearch\u001b[0m\u001b[0;34m.\u001b[0m\u001b[0mrun\u001b[0m\u001b[0;34m(\u001b[0m\u001b[0;34m'1001'\u001b[0m\u001b[0;34m,\u001b[0m\u001b[0mdevice\u001b[0m\u001b[0;34m=\u001b[0m\u001b[0;34m'ibmq_santiago'\u001b[0m\u001b[0;34m)\u001b[0m\u001b[0;34m\u001b[0m\u001b[0;34m\u001b[0m\u001b[0m\n\u001b[1;32m      2\u001b[0m \u001b[0;34m\u001b[0m\u001b[0m\n\u001b[0;32m----> 3\u001b[0;31m \u001b[0mplot_histogram\u001b[0m\u001b[0;34m(\u001b[0m\u001b[0ma\u001b[0m\u001b[0;34m[\u001b[0m\u001b[0;36m1\u001b[0m\u001b[0;34m]\u001b[0m\u001b[0;34m)\u001b[0m\u001b[0;34m\u001b[0m\u001b[0;34m\u001b[0m\u001b[0m\n\u001b[0m",
      "\u001b[0;32m/Library/Frameworks/Python.framework/Versions/3.8/lib/python3.8/site-packages/qiskit/visualization/counts_visualization.py\u001b[0m in \u001b[0;36mplot_histogram\u001b[0;34m(data, figsize, color, number_to_keep, sort, target_string, legend, bar_labels, title, ax)\u001b[0m\n\u001b[1;32m    131\u001b[0m \u001b[0;34m\u001b[0m\u001b[0m\n\u001b[1;32m    132\u001b[0m     labels = list(sorted(\n\u001b[0;32m--> 133\u001b[0;31m         functools.reduce(lambda x, y: x.union(y.keys()), data, set())))\n\u001b[0m\u001b[1;32m    134\u001b[0m     \u001b[0;32mif\u001b[0m \u001b[0mnumber_to_keep\u001b[0m \u001b[0;32mis\u001b[0m \u001b[0;32mnot\u001b[0m \u001b[0;32mNone\u001b[0m\u001b[0;34m:\u001b[0m\u001b[0;34m\u001b[0m\u001b[0;34m\u001b[0m\u001b[0m\n\u001b[1;32m    135\u001b[0m         \u001b[0mlabels\u001b[0m\u001b[0;34m.\u001b[0m\u001b[0mappend\u001b[0m\u001b[0;34m(\u001b[0m\u001b[0;34m'rest'\u001b[0m\u001b[0;34m)\u001b[0m\u001b[0;34m\u001b[0m\u001b[0;34m\u001b[0m\u001b[0m\n",
      "\u001b[0;31mTypeError\u001b[0m: reduce() arg 2 must support iteration"
     ]
    },
    {
     "data": {
      "image/png": "[encoded data removed]",
      "text/plain": [
       "<Figure size 504x360 with 1 Axes>"
      ]
     },
     "metadata": {
      "needs_background": "light"
     },
     "output_type": "display_data"
    }
   ],
   "source": [
    "a = grovSearch.run('1001',device='ibmq_santiago')\n",
    "\n",
    "plot_histogram(a[1])"
   ]
  },
  {
   "cell_type": "code",
   "execution_count": 30,
   "metadata": {},
   "outputs": [],
   "source": [
    "def CRZ(self, lam, control_qubits, target_qubit):\n",
    "            from qiskit.circuit.library import MCPhaseGate\n",
    "            num_ctrl_qubits = len(control_qubits)\n",
    "            return self.append(MCPhaseGate(lam, num_ctrl_qubits), control_qubits[:] + [target_qubit],\n",
    "                           [])\n",
    "        "
   ]
  },
  {
   "cell_type": "code",
   "execution_count": 36,
   "metadata": {},
   "outputs": [
    {
     "ename": "SyntaxError",
     "evalue": "unexpected EOF while parsing (<ipython-input-36-c0fc25115eae>, line 3)",
     "output_type": "error",
     "traceback": [
      "\u001b[0;36m  File \u001b[0;32m\"<ipython-input-36-c0fc25115eae>\"\u001b[0;36m, line \u001b[0;32m3\u001b[0m\n\u001b[0;31m    \u001b[0m\n\u001b[0m    ^\u001b[0m\n\u001b[0;31mSyntaxError\u001b[0m\u001b[0;31m:\u001b[0m unexpected EOF while parsing\n"
     ]
    }
   ],
   "source": [
    "def groverCircuit(target):\n",
    "    \n",
    "    "
   ]
  },
  {
   "cell_type": "code",
   "execution_count": 37,
   "metadata": {},
   "outputs": [
    {
     "data": {
      "text/plain": [
       "(<Figure size 1645.78x686.28 with 1 Axes>,\n",
       " <qiskit.result.result.Result at 0x1272b7940>,\n",
       " <qiskit.circuit.quantumcircuit.QuantumCircuit at 0x127412760>)"
      ]
     },
     "execution_count": 37,
     "metadata": {},
     "output_type": "execute_result"
    }
   ],
   "source": [
    "a"
   ]
  },
  {
   "cell_type": "code",
   "execution_count": 38,
   "metadata": {},
   "outputs": [
    {
     "data": {
      "image/png": "[encoded data removed]",
      "text/plain": [
       "<Figure size 1645.78x686.28 with 1 Axes>"
      ]
     },
     "execution_count": 38,
     "metadata": {},
     "output_type": "execute_result"
    }
   ],
   "source": [
    "a[0]"
   ]
  },
  {
   "cell_type": "code",
   "execution_count": 40,
   "metadata": {},
   "outputs": [
    {
     "data": {
      "image/png": "[encoded data removed]",
      "text/plain": [
       "<Figure size 504x360 with 1 Axes>"
      ]
     },
     "execution_count": 40,
     "metadata": {},
     "output_type": "execute_result"
    }
   ],
   "source": [
    "plot_histogram(a[1].get_counts(a[2]))"
   ]
  },
  {
   "cell_type": "code",
   "execution_count": null,
   "metadata": {},
   "outputs": [],
   "source": []
  }
 ],
 "metadata": {
  "kernelspec": {
   "display_name": "Python 3",
   "language": "python",
   "name": "python3"
  },
  "language_info": {
   "codemirror_mode": {
    "name": "ipython",
    "version": 3
   },
   "file_extension": ".py",
   "mimetype": "text/x-python",
   "name": "python",
   "nbconvert_exporter": "python",
   "pygments_lexer": "ipython3",
   "version": "3.8.5"
  }
 },
 "nbformat": 4,
 "nbformat_minor": 4
}
