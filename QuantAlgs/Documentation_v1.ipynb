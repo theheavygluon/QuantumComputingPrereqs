{
 "cells": [
  {
   "cell_type": "code",
   "execution_count": 1,
   "metadata": {},
   "outputs": [],
   "source": [
    "from QuantAlgs import *"
   ]
  },
  {
   "cell_type": "markdown",
   "metadata": {},
   "source": [
    "# Bernstein-Vazarani"
   ]
  },
  {
   "cell_type": "code",
   "execution_count": 2,
   "metadata": {},
   "outputs": [
    {
     "data": {
      "text/plain": [
       "(     ┌───┐      ░            ░ ┌───┐ ░ ┌─┐      \n",
       " q_0: ┤ H ├──────░────────■───░─┤ H ├─░─┤M├──────\n",
       "      ├───┤      ░        │   ░ ├───┤ ░ └╥┘┌─┐   \n",
       " q_1: ┤ H ├──────░────────┼───░─┤ H ├─░──╫─┤M├───\n",
       "      ├───┤      ░        │   ░ ├───┤ ░  ║ └╥┘┌─┐\n",
       " q_2: ┤ H ├──────░───■────┼───░─┤ H ├─░──╫──╫─┤M├\n",
       "      ├───┤┌───┐ ░ ┌─┴─┐┌─┴─┐ ░ └───┘ ░  ║  ║ └╥┘\n",
       " q_3: ┤ X ├┤ H ├─░─┤ X ├┤ X ├─░───────░──╫──╫──╫─\n",
       "      └───┘└───┘ ░ └───┘└───┘ ░       ░  ║  ║  ║ \n",
       " c: 3/═══════════════════════════════════╩══╩══╩═\n",
       "                                         0  1  2 ,\n",
       " {'101': 1})"
      ]
     },
     "execution_count": 2,
     "metadata": {},
     "output_type": "execute_result"
    }
   ],
   "source": [
    "#Simulate on qasm_simulator\n",
    "bV_sim = berVaz.sim('101')\n",
    "bV_sim"
   ]
  },
  {
   "cell_type": "code",
   "execution_count": 3,
   "metadata": {},
   "outputs": [
    {
     "data": {
      "image/png": "[encoded data removed]",
      "text/plain": [
       "<Figure size 504x360 with 1 Axes>"
      ]
     },
     "execution_count": 3,
     "metadata": {},
     "output_type": "execute_result"
    }
   ],
   "source": [
    "plot_histogram(bV_sim[1])"
   ]
  },
  {
   "cell_type": "code",
   "execution_count": 4,
   "metadata": {},
   "outputs": [],
   "source": [
    "#Run on a real quantum device with circuit drawn on matplotlib\n",
    "#bV_run = berVaz.run('101', device='ibmq_16_melbourne', plotTool='mpl', shots=1000)\n",
    "#bV_run"
   ]
  },
  {
   "cell_type": "code",
   "execution_count": 5,
   "metadata": {},
   "outputs": [],
   "source": [
    "#bV_run[0]"
   ]
  },
  {
   "cell_type": "code",
   "execution_count": 6,
   "metadata": {
    "scrolled": true
   },
   "outputs": [],
   "source": [
    "#plot_histogram(bV_run[1].get_counts(bV_run[2]))"
   ]
  },
  {
   "cell_type": "markdown",
   "metadata": {},
   "source": [
    "# Deutsch–Jozsa"
   ]
  },
  {
   "cell_type": "code",
   "execution_count": 7,
   "metadata": {},
   "outputs": [
    {
     "data": {
      "text/plain": [
       "(     ┌───┐     ┌────────────┐┌───┐┌─┐      \n",
       " q_0: ┤ H ├─────┤0           ├┤ H ├┤M├──────\n",
       "      ├───┤     │            │├───┤└╥┘┌─┐   \n",
       " q_1: ┤ H ├─────┤1           ├┤ H ├─╫─┤M├───\n",
       "      ├───┤     │  circuit83 │├───┤ ║ └╥┘┌─┐\n",
       " q_2: ┤ H ├─────┤2           ├┤ H ├─╫──╫─┤M├\n",
       "      ├───┤┌───┐│            │└───┘ ║  ║ └╥┘\n",
       " q_3: ┤ X ├┤ H ├┤3           ├──────╫──╫──╫─\n",
       "      └───┘└───┘└────────────┘      ║  ║  ║ \n",
       " c: 3/══════════════════════════════╩══╩══╩═\n",
       "                                    0  1  2 ,\n",
       " {'111': 1})"
      ]
     },
     "execution_count": 7,
     "metadata": {},
     "output_type": "execute_result"
    }
   ],
   "source": [
    "#Simulate\n",
    "dJ_sim = deuJoz.sim(3,'b')\n",
    "dJ_sim"
   ]
  },
  {
   "cell_type": "code",
   "execution_count": 8,
   "metadata": {},
   "outputs": [
    {
     "data": {
      "image/png": "[encoded data removed]",
      "text/plain": [
       "<Figure size 504x360 with 1 Axes>"
      ]
     },
     "execution_count": 8,
     "metadata": {},
     "output_type": "execute_result"
    }
   ],
   "source": [
    "plot_histogram(dJ_sim[1])"
   ]
  },
  {
   "cell_type": "code",
   "execution_count": 9,
   "metadata": {},
   "outputs": [],
   "source": [
    "#Run on a real quantum device with circuit drawn on matplotlib\n",
    "#dJ_run = deuJoz.run(3, funcType='c', device='ibmq_16_melbourne', plotTool='mpl', shots=1000)\n",
    "#dJ_run"
   ]
  },
  {
   "cell_type": "code",
   "execution_count": 10,
   "metadata": {},
   "outputs": [],
   "source": [
    "#dJ_run[0]"
   ]
  },
  {
   "cell_type": "code",
   "execution_count": 11,
   "metadata": {},
   "outputs": [],
   "source": [
    "#plot_histogram(dJ_run[1].get_counts(dJ_run[2]))"
   ]
  },
  {
   "cell_type": "markdown",
   "metadata": {},
   "source": [
    "# Grover Search\n",
    "\n",
    "### Building Enviroment"
   ]
  },
  {
   "cell_type": "code",
   "execution_count": 12,
   "metadata": {
    "scrolled": true
   },
   "outputs": [
    {
     "data": {
      "text/html": [
       "<pre style=\"word-wrap: normal;white-space: pre;background: #fff0;line-height: 1.1;font-family: &quot;Courier New&quot;,Courier,monospace\">        ┌───┐ ░                                   ░ ┌───┐\n",
       "ctrl_0: ┤ X ├─░───■───────────────────────────■───░─┤ X ├\n",
       "        └───┘ ░   │                           │   ░ └───┘\n",
       "ctrl_1: ──────░───■───────────────────────────■───░──────\n",
       "        ┌───┐ ░   │                           │   ░ ┌───┐\n",
       "ctrl_2: ┤ X ├─░───┼────■─────────────────■────┼───░─┤ X ├\n",
       "        ├───┤ ░   │    │                 │    │   ░ ├───┤\n",
       "ctrl_3: ┤ X ├─░───┼────┼────■───────■────┼────┼───░─┤ X ├\n",
       "        └───┘ ░ ┌─┴─┐  │    │       │    │  ┌─┴─┐ ░ └───┘\n",
       " anc_0: ──────░─┤ X ├──■────┼───────┼────■──┤ X ├─░──────\n",
       "              ░ └───┘┌─┴─┐  │       │  ┌─┴─┐└───┘ ░      \n",
       " anc_1: ──────░──────┤ X ├──■───────■──┤ X ├──────░──────\n",
       "              ░      └───┘┌─┴─┐   ┌─┴─┐└───┘      ░      \n",
       " anc_2: ──────░───────────┤ X ├─■─┤ X ├───────────░──────\n",
       "              ░           └───┘ │ └───┘           ░      \n",
       " anc_3: ──────░─────────────────┼─────────────────░──────\n",
       "        ┌───┐ ░                 │                 ░ ┌───┐\n",
       " tgt_0: ┤ X ├─░─────────────────■─────────────────░─┤ X ├\n",
       "        └───┘ ░                                   ░ └───┘</pre>"
      ],
      "text/plain": [
       "        ┌───┐ ░                                   ░ ┌───┐\n",
       "ctrl_0: ┤ X ├─░───■───────────────────────────■───░─┤ X ├\n",
       "        └───┘ ░   │                           │   ░ └───┘\n",
       "ctrl_1: ──────░───■───────────────────────────■───░──────\n",
       "        ┌───┐ ░   │                           │   ░ ┌───┐\n",
       "ctrl_2: ┤ X ├─░───┼────■─────────────────■────┼───░─┤ X ├\n",
       "        ├───┤ ░   │    │                 │    │   ░ ├───┤\n",
       "ctrl_3: ┤ X ├─░───┼────┼────■───────■────┼────┼───░─┤ X ├\n",
       "        └───┘ ░ ┌─┴─┐  │    │       │    │  ┌─┴─┐ ░ └───┘\n",
       " anc_0: ──────░─┤ X ├──■────┼───────┼────■──┤ X ├─░──────\n",
       "              ░ └───┘┌─┴─┐  │       │  ┌─┴─┐└───┘ ░      \n",
       " anc_1: ──────░──────┤ X ├──■───────■──┤ X ├──────░──────\n",
       "              ░      └───┘┌─┴─┐   ┌─┴─┐└───┘      ░      \n",
       " anc_2: ──────░───────────┤ X ├─■─┤ X ├───────────░──────\n",
       "              ░           └───┘ │ └───┘           ░      \n",
       " anc_3: ──────░─────────────────┼─────────────────░──────\n",
       "        ┌───┐ ░                 │                 ░ ┌───┐\n",
       " tgt_0: ┤ X ├─░─────────────────■─────────────────░─┤ X ├\n",
       "        └───┘ ░                                   ░ └───┘"
      ]
     },
     "execution_count": 12,
     "metadata": {},
     "output_type": "execute_result"
    }
   ],
   "source": [
    "def oracle(target):\n",
    "    n = len(target)\n",
    "    ctrl = QuantumRegister(n-1, 'ctrl')\n",
    "    anc = QuantumRegister(n-1, 'anc')\n",
    "    tgt = QuantumRegister(1, 'tgt')\n",
    "    qc = QuantumCircuit(ctrl, anc, tgt)\n",
    "    \n",
    "    def cnz(n):\n",
    "\n",
    "        qc.ccx(ctrl[0], ctrl[1], anc[0])\n",
    "        for i in range(2, n):\n",
    "            qc.ccx(ctrl[i], anc[i-2], anc[i-1])\n",
    "\n",
    "\n",
    "        qc.cz(anc[n-2], tgt[0])\n",
    "\n",
    "\n",
    "        for i in range(n-1, 1, -1):\n",
    "            qc.ccx(ctrl[i], anc[i-2], anc[i-1])\n",
    "        qc.ccx(ctrl[0], ctrl[1], anc[0]) \n",
    "\n",
    "\n",
    "    def xMaker(target):\n",
    "\n",
    "        targList = [int(i) for i in target]\n",
    "        tL1 = [targList[i] for i in range(len(targList)-1)]\n",
    "        tL2 = targList[-1]\n",
    "        \n",
    "        \n",
    "        j = 0\n",
    "        for i in tL1:\n",
    "            if i==0:\n",
    "                qc.x(j)\n",
    "            j+=1\n",
    "        if tL2 == 0:\n",
    "            qc.x(tgt)\n",
    "    xMaker(target)\n",
    "    qc.barrier()\n",
    "    cnz(n - 1)\n",
    "    qc.barrier()\n",
    "    xMaker(target)\n",
    "    return qc\n",
    "    \n",
    "    \n",
    "\n",
    "\n",
    "oracle('01000').draw()"
   ]
  },
  {
   "cell_type": "code",
   "execution_count": 13,
   "metadata": {
    "scrolled": true
   },
   "outputs": [
    {
     "data": {
      "text/html": [
       "<pre style=\"word-wrap: normal;white-space: pre;background: #fff0;line-height: 1.1;font-family: &quot;Courier New&quot;,Courier,monospace\">        ┌───┐┌───┐ ░                         ░ ┌───┐┌───┐\n",
       "ctrl_0: ┤ H ├┤ X ├─░───■─────────────────■───░─┤ X ├┤ H ├\n",
       "        ├───┤├───┤ ░   │                 │   ░ ├───┤├───┤\n",
       "ctrl_1: ┤ H ├┤ X ├─░───■─────────────────■───░─┤ X ├┤ H ├\n",
       "        ├───┤├───┤ ░   │                 │   ░ ├───┤├───┤\n",
       "ctrl_2: ┤ H ├┤ X ├─░───┼────■───────■────┼───░─┤ X ├┤ H ├\n",
       "        └───┘└───┘ ░ ┌─┴─┐  │       │  ┌─┴─┐ ░ └───┘└───┘\n",
       " anc_0: ───────────░─┤ X ├──■───────■──┤ X ├─░───────────\n",
       "                   ░ └───┘┌─┴─┐   ┌─┴─┐└───┘ ░           \n",
       " anc_1: ───────────░──────┤ X ├─■─┤ X ├──────░───────────\n",
       "                   ░      └───┘ │ └───┘      ░           \n",
       " anc_2: ───────────░────────────┼────────────░───────────\n",
       "        ┌───┐┌───┐ ░            │            ░ ┌───┐┌───┐\n",
       " tgt_0: ┤ H ├┤ X ├─░────────────■────────────░─┤ X ├┤ H ├\n",
       "        └───┘└───┘ ░                         ░ └───┘└───┘</pre>"
      ],
      "text/plain": [
       "        ┌───┐┌───┐ ░                         ░ ┌───┐┌───┐\n",
       "ctrl_0: ┤ H ├┤ X ├─░───■─────────────────■───░─┤ X ├┤ H ├\n",
       "        ├───┤├───┤ ░   │                 │   ░ ├───┤├───┤\n",
       "ctrl_1: ┤ H ├┤ X ├─░───■─────────────────■───░─┤ X ├┤ H ├\n",
       "        ├───┤├───┤ ░   │                 │   ░ ├───┤├───┤\n",
       "ctrl_2: ┤ H ├┤ X ├─░───┼────■───────■────┼───░─┤ X ├┤ H ├\n",
       "        └───┘└───┘ ░ ┌─┴─┐  │       │  ┌─┴─┐ ░ └───┘└───┘\n",
       " anc_0: ───────────░─┤ X ├──■───────■──┤ X ├─░───────────\n",
       "                   ░ └───┘┌─┴─┐   ┌─┴─┐└───┘ ░           \n",
       " anc_1: ───────────░──────┤ X ├─■─┤ X ├──────░───────────\n",
       "                   ░      └───┘ │ └───┘      ░           \n",
       " anc_2: ───────────░────────────┼────────────░───────────\n",
       "        ┌───┐┌───┐ ░            │            ░ ┌───┐┌───┐\n",
       " tgt_0: ┤ H ├┤ X ├─░────────────■────────────░─┤ X ├┤ H ├\n",
       "        └───┘└───┘ ░                         ░ └───┘└───┘"
      ]
     },
     "execution_count": 13,
     "metadata": {},
     "output_type": "execute_result"
    }
   ],
   "source": [
    "def amplification(target):\n",
    "    n = len(target)\n",
    "    ctrl = QuantumRegister(n-1, 'ctrl')\n",
    "    anc = QuantumRegister(n-1, 'anc')\n",
    "    tgt = QuantumRegister(1, 'tgt')\n",
    "    qc = QuantumCircuit(ctrl, anc, tgt)\n",
    "    \n",
    "    def cnz(n):\n",
    "\n",
    "        qc.ccx(ctrl[0], ctrl[1], anc[0])\n",
    "        for i in range(2, n):\n",
    "            qc.ccx(ctrl[i], anc[i-2], anc[i-1])\n",
    "\n",
    "\n",
    "        qc.cz(anc[n-2], tgt[0])\n",
    "\n",
    "\n",
    "        for i in range(n-1, 1, -1):\n",
    "            qc.ccx(ctrl[i], anc[i-2], anc[i-1])\n",
    "        qc.ccx(ctrl[0], ctrl[1], anc[0]) \n",
    "        \n",
    "    \n",
    "    qc.h([i for i in range(n-1)])\n",
    "    qc.h(tgt)\n",
    "    qc.x([i for i in range(n-1)])\n",
    "    qc.x(tgt)\n",
    "    qc.barrier()\n",
    "    cnz(n-1)\n",
    "    qc.barrier()\n",
    "    qc.x([i for i in range(n-1)])\n",
    "    qc.x(tgt)\n",
    "    qc.h([i for i in range(n-1)])\n",
    "    qc.h(tgt)\n",
    "        \n",
    "\n",
    "    \n",
    "    return qc\n",
    "\n",
    "\n",
    "\n",
    "amplification('1001').draw()\n"
   ]
  },
  {
   "cell_type": "code",
   "execution_count": null,
   "metadata": {},
   "outputs": [],
   "source": []
  },
  {
   "cell_type": "code",
   "execution_count": null,
   "metadata": {},
   "outputs": [],
   "source": []
  },
  {
   "cell_type": "code",
   "execution_count": null,
   "metadata": {},
   "outputs": [],
   "source": []
  },
  {
   "cell_type": "code",
   "execution_count": 14,
   "metadata": {},
   "outputs": [],
   "source": [
    "def x(y):\n",
    "    return y"
   ]
  },
  {
   "cell_type": "code",
   "execution_count": 15,
   "metadata": {},
   "outputs": [
    {
     "data": {
      "text/plain": [
       "5"
      ]
     },
     "execution_count": 15,
     "metadata": {},
     "output_type": "execute_result"
    }
   ],
   "source": [
    "x(5)"
   ]
  },
  {
   "cell_type": "code",
   "execution_count": 16,
   "metadata": {},
   "outputs": [
    {
     "data": {
      "text/plain": [
       "3"
      ]
     },
     "execution_count": 16,
     "metadata": {},
     "output_type": "execute_result"
    }
   ],
   "source": [
    "x(3)"
   ]
  },
  {
   "cell_type": "code",
   "execution_count": null,
   "metadata": {},
   "outputs": [],
   "source": [
    "\n"
   ]
  },
  {
   "cell_type": "code",
   "execution_count": null,
   "metadata": {},
   "outputs": [],
   "source": [
    "\n",
    "\n",
    "\n"
   ]
  },
  {
   "cell_type": "code",
   "execution_count": null,
   "metadata": {},
   "outputs": [],
   "source": []
  },
  {
   "cell_type": "code",
   "execution_count": null,
   "metadata": {},
   "outputs": [],
   "source": []
  },
  {
   "cell_type": "code",
   "execution_count": 17,
   "metadata": {},
   "outputs": [],
   "source": [
    "def mcp(self, lam, control_qubits, target_qubit):\n",
    "        from qiskit.circuit.library import MCPhaseGate\n",
    "        num_ctrl_qubits = len(control_qubits)\n",
    "        return self.append(MCPhaseGate(lam, num_ctrl_qubits), control_qubits[:] + [target_qubit],\n",
    "                           [])\n"
   ]
  },
  {
   "cell_type": "code",
   "execution_count": null,
   "metadata": {},
   "outputs": [],
   "source": []
  },
  {
   "cell_type": "code",
   "execution_count": null,
   "metadata": {},
   "outputs": [],
   "source": []
  },
  {
   "cell_type": "code",
   "execution_count": 18,
   "metadata": {},
   "outputs": [],
   "source": [
    "\n",
    "def hadamards(target):\n",
    "    target_list = [int(x) for x in str(target)]\n",
    "    n = len(target_list)\n",
    "    hadCirc = QuantumCircuit(n,n)\n",
    "    counter = [i for i in range(n)]\n",
    "    hadCirc.h(counter)\n",
    "    hadCirc.barrier()\n",
    "    return hadCirc"
   ]
  },
  {
   "cell_type": "code",
   "execution_count": 19,
   "metadata": {},
   "outputs": [
    {
     "data": {
      "text/plain": [
       "<qiskit.circuit.quantumcircuit.QuantumCircuit at 0x12e73b8e0>"
      ]
     },
     "execution_count": 19,
     "metadata": {},
     "output_type": "execute_result"
    }
   ],
   "source": [
    "\n",
    "    \n",
    "    \n",
    "def oracle(target):\n",
    "    target_list = [int(x) for x in str(target)]\n",
    "    n = len(target_list)\n",
    "    quanti = QuantumCircuit(n,n)\n",
    "    counter = [i for i in range(n)]\n",
    "    filtered = [counter[i] for i in range(n) if target_list[i]==0]\n",
    "    if filtered != []:\n",
    "        quanti.x(filtered)\n",
    "    mcp(quanti, np.pi, [i for i in range(n-1)],n-1)\n",
    "    if filtered != []:\n",
    "        quanti.x(filtered)\n",
    "    quanti.barrier()\n",
    "    return quanti\n",
    "    \n",
    "\n",
    "    \n",
    "\n",
    "\n",
    "oracle('1011')"
   ]
  },
  {
   "cell_type": "code",
   "execution_count": 20,
   "metadata": {},
   "outputs": [
    {
     "data": {
      "text/plain": [
       "<qiskit.circuit.quantumcircuit.QuantumCircuit at 0x12e8ae3a0>"
      ]
     },
     "execution_count": 20,
     "metadata": {},
     "output_type": "execute_result"
    }
   ],
   "source": [
    "def amplification(target):\n",
    "    target_list = [int(x) for x in str(target)]\n",
    "    n = len(target_list)\n",
    "    counter = [i for i in range(n)]\n",
    "    quantu = QuantumCircuit(n,n)\n",
    "    k = round(PI*n/4 - 0.5)\n",
    "    for i in range(k):\n",
    "        quantu.h(counter)\n",
    "        quantu.x(counter)\n",
    "        mcp(quantu, np.pi, [i for i in range(n-1)],n-1)\n",
    "        quantu.x(counter)\n",
    "        quantu.h(counter)\n",
    "        quantu.barrier()\n",
    "    \n",
    "    \n",
    "    return quantu\n",
    "\n",
    "amplification('1011')\n",
    "    "
   ]
  },
  {
   "cell_type": "code",
   "execution_count": 21,
   "metadata": {},
   "outputs": [],
   "source": [
    "cucu = hadamards('110')+oracle('110') + amplification('110')\n"
   ]
  },
  {
   "cell_type": "code",
   "execution_count": 22,
   "metadata": {},
   "outputs": [
    {
     "data": {
      "image/png": "[encoded data removed]",
      "text/plain": [
       "<Figure size 1224.38x264.88 with 1 Axes>"
      ]
     },
     "execution_count": 22,
     "metadata": {},
     "output_type": "execute_result"
    }
   ],
   "source": [
    "cucu.draw('mpl')"
   ]
  },
  {
   "cell_type": "code",
   "execution_count": 23,
   "metadata": {},
   "outputs": [],
   "source": [
    "backend = Aer.get_backend('qasm_simulator')\n",
    "result = execute(cucu,backend).result()\n",
    "output = result.get_counts()"
   ]
  },
  {
   "cell_type": "code",
   "execution_count": 24,
   "metadata": {},
   "outputs": [
    {
     "data": {
      "image/png": "[encoded data removed]",
      "text/plain": [
       "<Figure size 504x360 with 1 Axes>"
      ]
     },
     "execution_count": 24,
     "metadata": {},
     "output_type": "execute_result"
    }
   ],
   "source": [
    "plot_histogram(output)"
   ]
  },
  {
   "cell_type": "code",
   "execution_count": 25,
   "metadata": {},
   "outputs": [],
   "source": [
    "def groverCircuit(target):\n",
    "\n",
    "    target_list = [int(x) for x in str(target)] #Converts the target into a list (e.g '1001' => [1,0,0,1])\n",
    "    n = len(target_list) #Length of target list (i.e nbr of qubits)\n",
    "    counter = [i for i in range(n)] #List containing integers from 0 to num_qubits - 1\n",
    "\n",
    "    #Defining a CnP gate. Note that CnP(PI) = CNZ\n",
    "    def mcp(self, lam, control_qubits, target_qubit):\n",
    "        from qiskit.circuit.library import MCPhaseGate\n",
    "        num_ctrl_qubits = len(control_qubits)\n",
    "        return self.append(MCPhaseGate(lam, num_ctrl_qubits), control_qubits[:] + [target_qubit],\n",
    "                       [])\n",
    "\n",
    "    #Sub-circuit 1: Hadamard on all qubits\n",
    "    def hadamards(target):\n",
    "        hadCirc = QuantumCircuit(n,n)\n",
    "        hadCirc.h(counter)\n",
    "        hadCirc.barrier()\n",
    "        return hadCirc\n",
    "\n",
    "    #Sub-circuit 2: Oracle \n",
    "    def oracle(target):\n",
    "        filtered = [counter[i] for i in range(n) if target_list[i]==0] #Filtering the counter list to only the indices where target==0\n",
    "        oracleCirc = QuantumCircuit(n,n)\n",
    "        if filtered != []:\n",
    "            oracleCirc.x(filtered) #In other words, if target only has 1s, do nothing \n",
    "        mcp(oracleCirc, np.pi, [i for i in range(n-1)],n-1)\n",
    "        if filtered != []:\n",
    "            oracleCirc.x(filtered) #Applying X gates to the qubits which represent 0\n",
    "        oracleCirc.barrier()\n",
    "        return oracleCirc\n",
    "\n",
    "    #Sub-circuit 3: Amplifier\n",
    "    def amplification(target):\n",
    "        ampCirc = QuantumCircuit(n,n)\n",
    "        k = round(PI*n/4 - 0.5) #Ideal number of amp-iterations \n",
    "        for i in range(k):\n",
    "            ampCirc.h(counter)\n",
    "            ampCirc.x(counter)\n",
    "            mcp(ampCirc, np.pi, [i for i in range(n-1)],n-1)\n",
    "            ampCirc.x(counter)\n",
    "            ampCirc.h(counter)\n",
    "            ampCirc.barrier()\n",
    "\n",
    "\n",
    "        return ampCirc\n",
    "\n",
    "    circuit = hadamards(target) + oracle(target) + amplification(target)\n",
    "    circuit.measure(counter, counter)\n",
    "    return circuit\n",
    "    "
   ]
  },
  {
   "cell_type": "code",
   "execution_count": 49,
   "metadata": {},
   "outputs": [],
   "source": [
    "a = groverCircuit('1111')"
   ]
  },
  {
   "cell_type": "code",
   "execution_count": 50,
   "metadata": {},
   "outputs": [
    {
     "data": {
      "image/png": "[encoded data removed]",
      "text/plain": [
       "<Figure size 1645.78x686.28 with 1 Axes>"
      ]
     },
     "execution_count": 50,
     "metadata": {},
     "output_type": "execute_result"
    }
   ],
   "source": [
    "a.draw('mpl')"
   ]
  },
  {
   "cell_type": "code",
   "execution_count": 47,
   "metadata": {},
   "outputs": [],
   "source": [
    "from QuantAlgs import grovSearch as grover"
   ]
  },
  {
   "cell_type": "code",
   "execution_count": 48,
   "metadata": {},
   "outputs": [
    {
     "data": {
      "image/png": "[encoded data removed]",
      "text/plain": [
       "<Figure size 504x360 with 1 Axes>"
      ]
     },
     "execution_count": 48,
     "metadata": {},
     "output_type": "execute_result"
    }
   ],
   "source": [
    "a = grover.sim('1111',shots=8000)\n",
    "plot_histogram(a[1])"
   ]
  },
  {
   "cell_type": "code",
   "execution_count": 39,
   "metadata": {},
   "outputs": [],
   "source": [
    "#a = grovSearch.run('1001',device='ibmq_santiago')\n",
    "\n",
    "#plot_histogram(a[1])"
   ]
  },
  {
   "cell_type": "code",
   "execution_count": 31,
   "metadata": {},
   "outputs": [],
   "source": [
    "def CRZ(self, lam, control_qubits, target_qubit):\n",
    "            from qiskit.circuit.library import MCPhaseGate\n",
    "            num_ctrl_qubits = len(control_qubits)\n",
    "            return self.append(MCPhaseGate(lam, num_ctrl_qubits), control_qubits[:] + [target_qubit],\n",
    "                           [])\n",
    "        "
   ]
  },
  {
   "cell_type": "code",
   "execution_count": 32,
   "metadata": {},
   "outputs": [
    {
     "ename": "SyntaxError",
     "evalue": "unexpected EOF while parsing (<ipython-input-32-c0fc25115eae>, line 3)",
     "output_type": "error",
     "traceback": [
      "\u001b[0;36m  File \u001b[0;32m\"<ipython-input-32-c0fc25115eae>\"\u001b[0;36m, line \u001b[0;32m3\u001b[0m\n\u001b[0;31m    \u001b[0m\n\u001b[0m    ^\u001b[0m\n\u001b[0;31mSyntaxError\u001b[0m\u001b[0;31m:\u001b[0m unexpected EOF while parsing\n"
     ]
    }
   ],
   "source": [
    "def groverCircuit(target):\n",
    "    \n",
    "    "
   ]
  },
  {
   "cell_type": "code",
   "execution_count": null,
   "metadata": {},
   "outputs": [],
   "source": [
    "a = groverCircuit('1011')"
   ]
  },
  {
   "cell_type": "code",
   "execution_count": null,
   "metadata": {},
   "outputs": [],
   "source": [
    "a.draw('mpl')"
   ]
  },
  {
   "cell_type": "code",
   "execution_count": null,
   "metadata": {},
   "outputs": [],
   "source": [
    "plot_histogram(a[1].get_counts(a[2]))"
   ]
  },
  {
   "cell_type": "code",
   "execution_count": null,
   "metadata": {},
   "outputs": [],
   "source": []
  },
  {
   "cell_type": "code",
   "execution_count": null,
   "metadata": {},
   "outputs": [],
   "source": []
  },
  {
   "cell_type": "code",
   "execution_count": 67,
   "metadata": {},
   "outputs": [
    {
     "data": {
      "text/html": [
       "<pre style=\"word-wrap: normal;white-space: pre;background: #fff0;line-height: 1.1;font-family: &quot;Courier New&quot;,Courier,monospace\">      ┌───┐     ┌──────────────┐┌───┐┌─┐                           \n",
       " q_0: ┤ H ├─────┤0             ├┤ H ├┤M├───────────────────────────\n",
       "      ├───┤     │              │├───┤└╥┘┌─┐                        \n",
       " q_1: ┤ H ├─────┤1             ├┤ H ├─╫─┤M├────────────────────────\n",
       "      ├───┤     │              │├───┤ ║ └╥┘┌─┐                     \n",
       " q_2: ┤ H ├─────┤2             ├┤ H ├─╫──╫─┤M├─────────────────────\n",
       "      ├───┤     │              │├───┤ ║  ║ └╥┘┌─┐                  \n",
       " q_3: ┤ H ├─────┤3             ├┤ H ├─╫──╫──╫─┤M├──────────────────\n",
       "      ├───┤     │              │├───┤ ║  ║  ║ └╥┘┌─┐               \n",
       " q_4: ┤ H ├─────┤4             ├┤ H ├─╫──╫──╫──╫─┤M├───────────────\n",
       "      ├───┤     │              │├───┤ ║  ║  ║  ║ └╥┘┌─┐            \n",
       " q_5: ┤ H ├─────┤5  circuit534 ├┤ H ├─╫──╫──╫──╫──╫─┤M├────────────\n",
       "      ├───┤     │              │├───┤ ║  ║  ║  ║  ║ └╥┘┌─┐         \n",
       " q_6: ┤ H ├─────┤6             ├┤ H ├─╫──╫──╫──╫──╫──╫─┤M├─────────\n",
       "      ├───┤     │              │├───┤ ║  ║  ║  ║  ║  ║ └╥┘┌─┐      \n",
       " q_7: ┤ H ├─────┤7             ├┤ H ├─╫──╫──╫──╫──╫──╫──╫─┤M├──────\n",
       "      ├───┤     │              │├───┤ ║  ║  ║  ║  ║  ║  ║ └╥┘┌─┐   \n",
       " q_8: ┤ H ├─────┤8             ├┤ H ├─╫──╫──╫──╫──╫──╫──╫──╫─┤M├───\n",
       "      ├───┤     │              │├───┤ ║  ║  ║  ║  ║  ║  ║  ║ └╥┘┌─┐\n",
       " q_9: ┤ H ├─────┤9             ├┤ H ├─╫──╫──╫──╫──╫──╫──╫──╫──╫─┤M├\n",
       "      ├───┤┌───┐│              │└───┘ ║  ║  ║  ║  ║  ║  ║  ║  ║ └╥┘\n",
       "q_10: ┤ X ├┤ H ├┤10            ├──────╫──╫──╫──╫──╫──╫──╫──╫──╫──╫─\n",
       "      └───┘└───┘└──────────────┘      ║  ║  ║  ║  ║  ║  ║  ║  ║  ║ \n",
       "c: 10/════════════════════════════════╩══╩══╩══╩══╩══╩══╩══╩══╩══╩═\n",
       "                                      0  1  2  3  4  5  6  7  8  9 </pre>"
      ],
      "text/plain": [
       "      ┌───┐     ┌──────────────┐┌───┐┌─┐                           \n",
       " q_0: ┤ H ├─────┤0             ├┤ H ├┤M├───────────────────────────\n",
       "      ├───┤     │              │├───┤└╥┘┌─┐                        \n",
       " q_1: ┤ H ├─────┤1             ├┤ H ├─╫─┤M├────────────────────────\n",
       "      ├───┤     │              │├───┤ ║ └╥┘┌─┐                     \n",
       " q_2: ┤ H ├─────┤2             ├┤ H ├─╫──╫─┤M├─────────────────────\n",
       "      ├───┤     │              │├───┤ ║  ║ └╥┘┌─┐                  \n",
       " q_3: ┤ H ├─────┤3             ├┤ H ├─╫──╫──╫─┤M├──────────────────\n",
       "      ├───┤     │              │├───┤ ║  ║  ║ └╥┘┌─┐               \n",
       " q_4: ┤ H ├─────┤4             ├┤ H ├─╫──╫──╫──╫─┤M├───────────────\n",
       "      ├───┤     │              │├───┤ ║  ║  ║  ║ └╥┘┌─┐            \n",
       " q_5: ┤ H ├─────┤5  circuit534 ├┤ H ├─╫──╫──╫──╫──╫─┤M├────────────\n",
       "      ├───┤     │              │├───┤ ║  ║  ║  ║  ║ └╥┘┌─┐         \n",
       " q_6: ┤ H ├─────┤6             ├┤ H ├─╫──╫──╫──╫──╫──╫─┤M├─────────\n",
       "      ├───┤     │              │├───┤ ║  ║  ║  ║  ║  ║ └╥┘┌─┐      \n",
       " q_7: ┤ H ├─────┤7             ├┤ H ├─╫──╫──╫──╫──╫──╫──╫─┤M├──────\n",
       "      ├───┤     │              │├───┤ ║  ║  ║  ║  ║  ║  ║ └╥┘┌─┐   \n",
       " q_8: ┤ H ├─────┤8             ├┤ H ├─╫──╫──╫──╫──╫──╫──╫──╫─┤M├───\n",
       "      ├───┤     │              │├───┤ ║  ║  ║  ║  ║  ║  ║  ║ └╥┘┌─┐\n",
       " q_9: ┤ H ├─────┤9             ├┤ H ├─╫──╫──╫──╫──╫──╫──╫──╫──╫─┤M├\n",
       "      ├───┤┌───┐│              │└───┘ ║  ║  ║  ║  ║  ║  ║  ║  ║ └╥┘\n",
       "q_10: ┤ X ├┤ H ├┤10            ├──────╫──╫──╫──╫──╫──╫──╫──╫──╫──╫─\n",
       "      └───┘└───┘└──────────────┘      ║  ║  ║  ║  ║  ║  ║  ║  ║  ║ \n",
       "c: 10/════════════════════════════════╩══╩══╩══╩══╩══╩══╩══╩══╩══╩═\n",
       "                                      0  1  2  3  4  5  6  7  8  9 "
      ]
     },
     "execution_count": 67,
     "metadata": {},
     "output_type": "execute_result"
    }
   ],
   "source": [
    "def deuJozCirc(n, funcType):\n",
    "\n",
    "    def gateMaker(n, funcType='text'):\n",
    "        N = int(n)\n",
    "        gate = QuantumCircuit(N+1)\n",
    "\n",
    "        if funcType.lower() == \"b\":\n",
    "            xNum = format(np.random.randint(1,2**N), '0'+str(n)+'b')\n",
    "            for i in range(len(xNum)):\n",
    "                if xNum[i] == '1':\n",
    "                    gate.x(i)\n",
    "            for i in range(N):\n",
    "                gate.cx(i, N)\n",
    "            for i in range(len(xNum)):\n",
    "                if xNum[i] == '1':\n",
    "                    gate.x(i)\n",
    "\n",
    "        if funcType.lower() == \"c\":\n",
    "\n",
    "            output = np.random.randint(2)\n",
    "            if output == 1:\n",
    "                gate.x(N)\n",
    "\n",
    "        Gate = gate.to_gate()\n",
    "        Gate.name = \"Black Box\" \n",
    "        return gate\n",
    "\n",
    "    N = int(n)\n",
    "    blackBox = gateMaker(n, funcType)\n",
    "    circuit = QuantumCircuit(n+1, n)\n",
    "    circuit.x(N)\n",
    "    circuit.h(N)\n",
    "    for i in range(N):\n",
    "        circuit.h(i)\n",
    "    circuit.append(blackBox, range(n+1))\n",
    "    for i in range(N):\n",
    "        circuit.h(i)\n",
    "\n",
    "    for i in range(N):\n",
    "        circuit.measure(i, i)\n",
    "\n",
    "    backend = Aer.get_backend('qasm_simulator')\n",
    "    result = execute(circuit,backend, shots = 1).result()\n",
    "    output = result.get_counts()\n",
    "    return circuit\n",
    "\n",
    "goog(10, 'b').draw()"
   ]
  },
  {
   "cell_type": "code",
   "execution_count": 160,
   "metadata": {},
   "outputs": [],
   "source": [
    "def groverCircuit(target):\n",
    "\n",
    "    target_list = [int(x) for x in str(target)] #Converts the target into a list (e.g '1001' => [1,0,0,1])\n",
    "    n = len(target_list) #Length of target list (i.e nbr of qubits)\n",
    "    counter = [i for i in range(n)] #List containing integers from 0 to num_qubits - 1\n",
    "\n",
    "    #Defining a CnP gate. Note that CnP(PI) = CNZ\n",
    "    def mcp(self, lam, control_qubits, target_qubit):\n",
    "        from qiskit.circuit.library import MCPhaseGate\n",
    "        num_ctrl_qubits = len(control_qubits)\n",
    "        return self.append(MCPhaseGate(lam, num_ctrl_qubits), control_qubits[:] + [target_qubit],\n",
    "                       [])\n",
    "\n",
    "    #Sub-circuit 1: Hadamard on all qubits\n",
    "    def hadamards(target):\n",
    "        hadCirc = QuantumCircuit(n,n)\n",
    "        hadCirc.h(counter)\n",
    "        hadCirc.barrier()\n",
    "        return hadCirc\n",
    "\n",
    "    #Sub-circuit 2: Oracle \n",
    "    def oracle(target):\n",
    "        filtered = [counter[i] for i in range(n) if target_list[i]==0] #Filtering the counter list to only the indices where target==0\n",
    "        oracleCirc = QuantumCircuit(n,n)\n",
    "        if filtered != []:\n",
    "            oracleCirc.x(filtered) #In other words, if target only has 1s, do nothing \n",
    "        mcp(oracleCirc, np.pi, [i for i in range(n-1)],n-1)\n",
    "        if filtered != []:\n",
    "            oracleCirc.x(filtered) #Applying X gates to the qubits which represent 0\n",
    "        oracleCirc.barrier()\n",
    "        return oracleCirc\n",
    "\n",
    "    #Sub-circuit 3: Amplifier\n",
    "    def amplification(target):\n",
    "        ampCirc = QuantumCircuit(n,n)\n",
    "        ampCirc.h(counter)\n",
    "        ampCirc.x(counter)\n",
    "        mcp(ampCirc, np.pi, [i for i in range(n-1)],n-1)\n",
    "        ampCirc.x(counter)\n",
    "        ampCirc.h(counter)\n",
    "        ampCirc.barrier()\n",
    "        return ampCirc\n",
    "    \n",
    "    k = round(PI*n/4 - 0.5) #Ideal number of iterations. k = π/4 * √N - 1/2. \n",
    "    \n",
    "    circuit = hadamards(target) \n",
    "    \n",
    "    for i in range(k): #Iterating the oracle and amplification \n",
    "        circuit+=oracle(target)\n",
    "        circuit+= amplification(target)\n",
    "    \n",
    "    circuit.measure(counter, counter)\n",
    "    return circuit\n",
    "    "
   ]
  },
  {
   "cell_type": "code",
   "execution_count": 161,
   "metadata": {},
   "outputs": [],
   "source": [
    "circuit = groverCircuit('1010')\n",
    "backend = Aer.get_backend('qasm_simulator')\n",
    "result = execute(circuit,backend, shots = 4000).result()\n",
    "output = result.get_counts()"
   ]
  },
  {
   "cell_type": "code",
   "execution_count": 162,
   "metadata": {},
   "outputs": [
    {
     "data": {
      "image/png": "[encoded data removed]",
      "text/plain": [
       "<Figure size 1645.78x686.28 with 1 Axes>"
      ]
     },
     "execution_count": 162,
     "metadata": {},
     "output_type": "execute_result"
    }
   ],
   "source": [
    "circuit.draw('mpl')"
   ]
  },
  {
   "cell_type": "code",
   "execution_count": 163,
   "metadata": {},
   "outputs": [
    {
     "data": {
      "image/png": "[encoded data removed]",
      "text/plain": [
       "<Figure size 504x360 with 1 Axes>"
      ]
     },
     "execution_count": 163,
     "metadata": {},
     "output_type": "execute_result"
    }
   ],
   "source": [
    "plot_histogram(output)"
   ]
  },
  {
   "cell_type": "code",
   "execution_count": 182,
   "metadata": {},
   "outputs": [
    {
     "data": {
      "image/png": "[encoded data removed]",
      "text/plain": [
       "<Figure size 652.659x445.48 with 1 Axes>"
      ]
     },
     "execution_count": 182,
     "metadata": {},
     "output_type": "execute_result"
    }
   ],
   "source": [
    "n = 6\n",
    "target = [i for i in range(n)]\n",
    "movieWatch = QuantumCircuit(n)\n",
    "movieWatch.h(target)\n",
    "movieWatch.measure_all()\n",
    "movieWatch.draw('mpl')"
   ]
  },
  {
   "cell_type": "code",
   "execution_count": 183,
   "metadata": {},
   "outputs": [
    {
     "name": "stderr",
     "output_type": "stream",
     "text": [
      "/Library/Frameworks/Python.framework/Versions/3.8/lib/python3.8/site-packages/qiskit/providers/ibmq/ibmqfactory.py:192: UserWarning: Timestamps in IBMQ backend properties, jobs, and job results are all now in local time instead of UTC.\n",
      "  warnings.warn('Timestamps in IBMQ backend properties, jobs, and job results '\n",
      "ibmqfactory.load_account:WARNING:2021-06-01 21:12:48,622: Credentials are already in use. The existing account in the session will be replaced.\n"
     ]
    },
    {
     "name": "stdout",
     "output_type": "stream",
     "text": [
      "Job Status: job has successfully run\n"
     ]
    }
   ],
   "source": [
    "IBMQ.load_account()\n",
    "provider = IBMQ.get_provider('ibm-q')\n",
    "qcomp = provider.get_backend('ibmq_16_melbourne')\n",
    "job = execute(movieWatch, backend=qcomp, shots=1)\n",
    "from qiskit.tools.monitor import job_monitor\n",
    "job_monitor(job)\n",
    "result = job.result()"
   ]
  },
  {
   "cell_type": "code",
   "execution_count": 185,
   "metadata": {},
   "outputs": [
    {
     "data": {
      "image/png": "[encoded data removed]",
      "text/plain": [
       "<Figure size 504x360 with 1 Axes>"
      ]
     },
     "execution_count": 185,
     "metadata": {},
     "output_type": "execute_result"
    }
   ],
   "source": [
    "plot_histogram(result.get_counts(movieWatch))"
   ]
  },
  {
   "cell_type": "code",
   "execution_count": null,
   "metadata": {},
   "outputs": [],
   "source": []
  }
 ],
 "metadata": {
  "kernelspec": {
   "display_name": "Python 3",
   "language": "python",
   "name": "python3"
  },
  "language_info": {
   "codemirror_mode": {
    "name": "ipython",
    "version": 3
   },
   "file_extension": ".py",
   "mimetype": "text/x-python",
   "name": "python",
   "nbconvert_exporter": "python",
   "pygments_lexer": "ipython3",
   "version": "3.8.5"
  }
 },
 "nbformat": 4,
 "nbformat_minor": 4
}
