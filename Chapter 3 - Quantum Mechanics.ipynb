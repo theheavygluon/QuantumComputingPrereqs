{
 "cells": [
  {
   "cell_type": "markdown",
   "metadata": {},
   "source": [
    "# Chapter 3: Introduction to Quantum Mechanics"
   ]
  },
  {
   "cell_type": "markdown",
   "metadata": {},
   "source": [
    " ## 3.1 Determinism and Classical Mechanics\n",
    "\n",
    " A deterministic system is essentially a system where you can use the present to predict the future. For the most part, that's how things seem to work. If you turn on the heater, you know that the room will get hotter, and if you use correct measurements and have a basic mathematical background, you can construct a quantitative model to describe how the average temperature of the room evolves over time. If you kick a ball, you almost know that its trajectory will have parabolic nature regardless of whether you're a world renowned theoretical physicist or a 5 year old who's played football a few times.\n",
    " \n",
    "You may be finding it weird that I'm stressing on a seemingly trivial point, that we can use the present to predict the future, because it's pretty obvious that that's how things work. Right? Well, as certain phenomena studied in the late 1800s show, our intuition of how the world works is skewed and only acts as a (rather superb) approximation to the scales and speeds we're used to observing. \n",
    "\n",
    "### Modeling Dynamics\n",
    "\n",
    "In high school, one is usually taught to take the approach of describing a particle's dynamics according to the forces which act on it. More specifically, one would use Newton's second law, a differential equation which states that the acceleration of a particle is proportional to the force applied on it, or $F = m\\frac{d^2x}{dt^2}$. Of course this seems to work very well, I mean we're talking about the laws that took us to the moon. However, The truth is that Newton's fomulation of classical mechanics, while works really well in some cases, could be quite limiting in others, for a few reasons. One of the most notable reasons is that Newton's second law  is unique to cartesian coordinates, which isn't always the most convenient coordinate system to describe a particle. For example, a pendulum would be described by 2 degrees of freedom in cartesian coordinates (i.e $x$ and $y$) but only 1 degree of freedom in spherical coordinates (i.e $\\theta$)\n",
    "\n",
    "As a solution, Newtonian Mechanics could be generalized and be reformulated into other formalisms, such as the Hamiltonian formalism, which, although is totally equivalent, uses a different approach to describing a system. \n",
    "\n",
    "The Hamiltonian Formalism uses a function called the Hamiltionian, which is a function of the <a href='https://en.wikipedia.org/wiki/Generalized_coordinates'>generalized coordinates </a> of a particle, as well as its corresponding conjugate momentum. This means that to know *everything* about a particle's state (and how that state evolves), we need to only know its position and momentum. \n",
    "\n",
    "\n",
    "The Hamiltonian is denoted by $H(\\vec{q},\\vec{p})$, where $\\vec{q}$ are the generalized coordinates and $\\vec{p}$ are the generalized momenta (which is now treated as independant to the position, unlike in Newton's formulation). $H$ is equal to the sum of kinetic energy, $T(\\vec{p})$ and potential energy, $V(\\vec{q})$, or\n",
    "\n",
    "<br>\n",
    "\\begin{equation}\n",
    "   H = T + V\n",
    "\\end{equation}\n",
    "\n",
    "which expands to\n",
    "\n",
    "\\begin{equation}\n",
    "   H = \\frac{p^2}{2m} + V(q)\n",
    "\\end{equation}\n",
    "\n",
    "<br>\n",
    "\n",
    "And the system's time evolution of the system (i.e evolution of the state, which, as we stated above, consists of only $q$ and $p$) can be described by Hamilton's Equations:\n",
    "\n",
    "\\begin{equation}\n",
    "   \\frac{dq}{dt} = \\frac{dH}{dp}\n",
    "\\end{equation}\n",
    "and \n",
    "\\begin{equation}\n",
    "   \\frac{dp}{dt} = -\\frac{dH}{dq}\n",
    "\\end{equation}"
   ]
  },
  {
   "cell_type": "markdown",
   "metadata": {},
   "source": [
    " ## 3.2 Ultraviolet Catastrophe\n"
   ]
  },
  {
   "cell_type": "markdown",
   "metadata": {},
   "source": [
    " ## 3.3 Photoelectric Effect\n"
   ]
  },
  {
   "cell_type": "markdown",
   "metadata": {},
   "source": [
    "## 3.4 deBroglie Wavelength"
   ]
  },
  {
   "cell_type": "markdown",
   "metadata": {},
   "source": [
    "## 3.5 Postulates of Quantum Mechanics"
   ]
  },
  {
   "cell_type": "markdown",
   "metadata": {},
   "source": [
    "## 3.6 Statevectors and Wavefunctions"
   ]
  },
  {
   "cell_type": "markdown",
   "metadata": {},
   "source": [
    "## 3.7 The Schrodinger Equation"
   ]
  },
  {
   "cell_type": "markdown",
   "metadata": {},
   "source": [
    "## 3.8 Quantum Entanglement"
   ]
  },
  {
   "cell_type": "markdown",
   "metadata": {},
   "source": [
    "## 3.9 Takeaways for Quantum Computing"
   ]
  },
  {
   "cell_type": "code",
   "execution_count": null,
   "metadata": {},
   "outputs": [],
   "source": []
  }
 ],
 "metadata": {
  "kernelspec": {
   "display_name": "Python 3",
   "language": "python",
   "name": "python3"
  },
  "language_info": {
   "codemirror_mode": {
    "name": "ipython",
    "version": 3
   },
   "file_extension": ".py",
   "mimetype": "text/x-python",
   "name": "python",
   "nbconvert_exporter": "python",
   "pygments_lexer": "ipython3",
   "version": "3.8.5"
  }
 },
 "nbformat": 4,
 "nbformat_minor": 4
}
